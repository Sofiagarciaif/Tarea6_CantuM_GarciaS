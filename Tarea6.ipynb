{
 "cells": [
  {
   "cell_type": "markdown",
   "metadata": {},
   "source": [
    "<img style=\"float: left; margin: 30px 15px 15px 15px;\" src=\"https://pngimage.net/wp-content/uploads/2018/06/logo-iteso-png-5.png\" width=\"300\" height=\"500\" /> \n",
    "    \n",
    "    \n",
    "### <font color='navy'> Simulación de procesos financieros. \n",
    "\n",
    "**Nombres:** Maria Jose Cantu y Sofia Garcia Mora\n",
    "\n",
    "**Fecha:** 15 de octubre del 2020.\n",
    "\n",
    "**Expediente** : if708916 y if714303\n",
    "    \n",
    "**Profesor:** Oscar David Jaramillo Zuluaga.\n",
    "\n",
    "**LINK TAREA:** https://github.com/Sofiagarciaif/Tarea6_CantuM_GarciaS.git\n",
    "\n",
    "# Tarea 6: Clase 13"
   ]
  },
  {
   "cell_type": "markdown",
   "metadata": {},
   "source": [
    "### Ejercicio 1: \n",
    ">1.Suponer que $T$ distribuye beta donde la media es $\\mu_p$ y varianza $\\sigma_p^2$ y responder cual es la probabilidad $P(T\\leq d)$.\n",
    "    ![imagen.png](attachment:imagen.png)\n",
    "\n",
    "> **Ayuda**: - Aprender a utlizar el solucionador de ecuaciones no lineales https://stackoverflow.com/questions/19843116/passing-arguments-to-fsolve\n",
    "- Leer el help de la función beta del paquete estadístico para aprender a graficar funciones beta en un intervalo diferente a 0 y 1."
   ]
  },
  {
   "cell_type": "markdown",
   "metadata": {},
   "source": [
    "#### RESPUESTA SOFIA "
   ]
  },
  {
   "cell_type": "code",
   "execution_count": 2,
   "metadata": {},
   "outputs": [],
   "source": [
    "import matplotlib.pyplot as plt\n",
    "import numpy as np\n",
    "%matplotlib inline\n",
    "from scipy import optimize\n",
    "from scipy.optimize import fsolve\n",
    "import scipy.stats as st\n",
    "from sympy import symbols, solve"
   ]
  },
  {
   "cell_type": "markdown",
   "metadata": {},
   "source": [
    "$$0=\\frac{a\\beta+b\\alpha}{\\alpha+\\beta}-\\mu$$\n",
    "\n",
    "$$0=\\frac{40\\beta+49\\alpha}{\\alpha+\\beta}-44$$\n",
    "\n",
    "$$0=\\frac{\\alpha \\beta (b-a)^2}{(\\alpha+\\beta)^2(1+\\alpha +\\beta}-\\sigma^2$$\n",
    "\n",
    "$$0=\\frac{\\alpha \\beta (49-40)^2}{(\\alpha+\\beta)^2(1+\\alpha +\\beta}-9$$\n",
    "\n",
    "Solucionando para alpha y beta:"
   ]
  },
  {
   "cell_type": "code",
   "execution_count": 15,
   "metadata": {
    "scrolled": true
   },
   "outputs": [
    {
     "name": "stdout",
     "output_type": "stream",
     "text": [
      "P(T<=d)= 0.7677251926229147\n"
     ]
    }
   ],
   "source": [
    "######### Caso de estudio 1 ################\n",
    "up = 44; sigma = np.sqrt(9); d = 47\n",
    "\n",
    "#solucionando para alpha y beta\n",
    "a=40\n",
    "b=49\n",
    "scale= b-a\n",
    "al= symbols(\"alpha\")\n",
    "be= symbols(\"beta\")\n",
    "\n",
    "exp_1=(a*be+b*al)/(al+be)-up\n",
    "exp_2=(al*be*(b-a)**2)/((al+be)**2*(1+al+be))-sigma**2\n",
    "\n",
    "sol= solve((exp_1,exp_2),(al, be))\n",
    "sol_alpha= sol[0][0]\n",
    "sol_beta= sol[0][1]\n",
    "\n",
    "#distribucion beta\n",
    "P_beta= st.beta(float(sol_alpha),float(sol_beta),a,scale).cdf(d)\n",
    "print('P(T<=d)=',P_beta)"
   ]
  },
  {
   "cell_type": "markdown",
   "metadata": {},
   "source": [
    "#### RESPUESTA MAJO"
   ]
  },
  {
   "cell_type": "code",
   "execution_count": 16,
   "metadata": {
    "scrolled": true
   },
   "outputs": [
    {
     "name": "stdout",
     "output_type": "stream",
     "text": [
      "P(T<=d)= 0.7677251926229147\n"
     ]
    },
    {
     "data": {
      "image/png": "[encoded data removed]",
      "text/plain": [
       "<Figure size 432x288 with 1 Axes>"
      ]
     },
     "metadata": {
      "needs_background": "light"
     },
     "output_type": "display_data"
    }
   ],
   "source": [
    "import numpy as np\n",
    "import matplotlib.pyplot as plt\n",
    "from scipy.optimize import fsolve\n",
    "import scipy.stats as st\n",
    "from sympy import var, solve\n",
    "#Recuperando la media y varianza del ejercicio anterior, al igual que los dias\n",
    "up = 44; sigma = np.sqrt(9); d = 47\n",
    "a,b=var('a b')\n",
    "f1=44-(40*b+49*a)/(a+b)\n",
    "f2=9-(a*b*(49-40)**2)/((a+b)**2*(1+a+b))\n",
    "sols = solve((f1, f2), (a, b))\n",
    "alpha=sols[0][0]\n",
    "beta=sols[0][1]\n",
    "#ya teniendo alpha y beta\n",
    "x = np.arange (40, 49, 0.1)\n",
    "y = st.beta.pdf(x,float(alpha),float(beta), loc=40,scale=9)\n",
    "P=st.beta(float(alpha),float(beta),loc=40,scale=9).cdf(47)\n",
    "plt.plot(x,y)\n",
    "print('P(T<=d)=',P)"
   ]
  },
  {
   "cell_type": "markdown",
   "metadata": {},
   "source": [
    "### Ejercicio 2: \n",
    ">2.Suponer que $T$ distribuye triangular donde el valor mas probable es $\\mu_p$ el valor pesimista es $p=49$ y el valor optimista es $o=40$ y responder cual es la probabilidad $P(T\\leq d)$. Nuevamente aprender a graficar una función triangular en un intervalro [a,b], usando el help."
   ]
  },
  {
   "cell_type": "markdown",
   "metadata": {},
   "source": [
    "#### RESPUESTA SOFIA "
   ]
  },
  {
   "cell_type": "code",
   "execution_count": 5,
   "metadata": {},
   "outputs": [
    {
     "name": "stdout",
     "output_type": "stream",
     "text": [
      "P(T<=d)= 0.9111111111111111\n"
     ]
    },
    {
     "data": {
      "text/plain": [
       "[<matplotlib.lines.Line2D at 0x1a155411d0>]"
      ]
     },
     "execution_count": 5,
     "metadata": {},
     "output_type": "execute_result"
    },
    {
     "data": {
      "image/png": "[encoded data removed]",
      "text/plain": [
       "<Figure size 432x288 with 1 Axes>"
      ]
     },
     "metadata": {
      "needs_background": "light"
     },
     "output_type": "display_data"
    }
   ],
   "source": [
    "######### Caso de estudio 1 ################\n",
    "up = 44; sigma = np.sqrt(9); d = 47\n",
    "a=40\n",
    "b=49\n",
    "scale= b-a\n",
    "c= (up-a)/(scale)\n",
    "\n",
    "#distribucion triangular\n",
    "P_trian= st.triang(c,a,scale).cdf(d)\n",
    "print('P(T<=d)=',P_trian)\n",
    "# grafica distribucion \n",
    "x= np.arange (a,b)\n",
    "graph=st.triang.pdf(x,c,a,scale)\n",
    "graph\n",
    "plt.plot(graph)"
   ]
  },
  {
   "cell_type": "markdown",
   "metadata": {},
   "source": [
    "#### RESPUESTA MAJO"
   ]
  },
  {
   "cell_type": "code",
   "execution_count": 3,
   "metadata": {},
   "outputs": [
    {
     "name": "stdout",
     "output_type": "stream",
     "text": [
      "P(T<=d)= 0.9111111111111111\n"
     ]
    },
    {
     "data": {
      "text/plain": [
       "[<matplotlib.lines.Line2D at 0x1a1b9d7c88>]"
      ]
     },
     "execution_count": 3,
     "metadata": {},
     "output_type": "execute_result"
    },
    {
     "data": {
      "image/png": "[encoded data removed]",
      "text/plain": [
       "<Figure size 432x288 with 1 Axes>"
      ]
     },
     "metadata": {
      "needs_background": "light"
     },
     "output_type": "display_data"
    }
   ],
   "source": [
    "x = np.arange (40, 49, 0.1)\n",
    "c=49\n",
    "b=44\n",
    "a=40\n",
    "s = c - a #diferencia\n",
    "c1 = (b - a) / (c - a) #Media\n",
    "loc = a #izq\n",
    "E1=st.triang.pdf(x,c1,loc,s)\n",
    "E1\n",
    "P3=st.triang(c1,loc,s).cdf(47)\n",
    "print('P(T<=d)=',P3)\n",
    "plt.plot(x,E1)"
   ]
  },
  {
   "cell_type": "markdown",
   "metadata": {},
   "source": [
    "### Concluciones\n",
    "Podemos concluir que se aproxima de manera muy similar ambos metodos, pero el metodo triangular es menos atinado ya que tiene menos datos para usar."
   ]
  },
  {
   "cell_type": "code",
   "execution_count": null,
   "metadata": {},
   "outputs": [],
   "source": []
  }
 ],
 "metadata": {
  "kernelspec": {
   "display_name": "Python 3",
   "language": "python",
   "name": "python3"
  },
  "language_info": {
   "codemirror_mode": {
    "name": "ipython",
    "version": 3
   },
   "file_extension": ".py",
   "mimetype": "text/x-python",
   "name": "python",
   "nbconvert_exporter": "python",
   "pygments_lexer": "ipython3",
   "version": "3.7.3"
  }
 },
 "nbformat": 4,
 "nbformat_minor": 2
}
